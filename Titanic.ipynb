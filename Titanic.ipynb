{
 "cells": [
  {
   "cell_type": "code",
   "execution_count": 1,
   "metadata": {
    "collapsed": true
   },
   "outputs": [],
   "source": [
    "import pandas as pd"
   ]
  },
  {
   "cell_type": "code",
   "execution_count": 2,
   "metadata": {
    "collapsed": true
   },
   "outputs": [],
   "source": [
    "#Load data\n",
    "train_data = pd.read_csv('D:\\\\study\\\\train.csv')\n",
    "test_data = pd.read_csv('D:\\\\study\\\\test.csv')"
   ]
  },
  {
   "cell_type": "code",
   "execution_count": 3,
   "metadata": {},
   "outputs": [
    {
     "name": "stderr",
     "output_type": "stream",
     "text": [
      "D:\\ruanjian\\Anaconda\\lib\\site-packages\\ipykernel_launcher.py:3: DeprecationWarning: \n",
      ".ix is deprecated. Please use\n",
      ".loc for label based indexing or\n",
      ".iloc for positional indexing\n",
      "\n",
      "See the documentation here:\n",
      "http://pandas.pydata.org/pandas-docs/stable/indexing.html#ix-indexer-is-deprecated\n",
      "  This is separate from the ipykernel package so we can avoid doing imports until\n"
     ]
    }
   ],
   "source": [
    "Sex = []\n",
    "for i in range(len(train_data)):\n",
    "    if(train_data.ix[i,'Sex'] == 'female'):\n",
    "        Sex.append(0)\n",
    "    else:\n",
    "        Sex.append(1)\n",
    "train_data.drop('Sex', axis=1, inplace=True)\n",
    "train_data['Sex'] = Sex\n",
    "train_data.drop(['Name','Cabin','Ticket'], axis=1, inplace=True)\n",
    "a = list(train_data['Embarked'])\n",
    "Embarked=[]\n",
    "for i in a:\n",
    "    if i == 'S':\n",
    "        Embarked.append(0)\n",
    "    elif i == 'Q':\n",
    "        Embarked.append(1)\n",
    "    elif i == 'C':\n",
    "        Embarked.append(2)\n",
    "    else:\n",
    "        Embarked.append(None)"
   ]
  },
  {
   "cell_type": "code",
   "execution_count": 4,
   "metadata": {
    "collapsed": true
   },
   "outputs": [],
   "source": [
    "train_data.drop(['Embarked'], axis=1, inplace=True)\n",
    "train_data['Embarked'] = Embarked\n",
    "from sklearn.preprocessing import Imputer\n",
    "imr = Imputer(missing_values='NaN', strategy='mean', axis=0)\n",
    "imr = imr.fit(train_data)\n",
    "data = imr.transform(train_data.values)\n",
    "train = pd.DataFrame(data)\n",
    "train.columns = train_data.columns"
   ]
  },
  {
   "cell_type": "code",
   "execution_count": 6,
   "metadata": {},
   "outputs": [
    {
     "name": "stdout",
     "output_type": "stream",
     "text": [
      "WARN: OMP_NUM_THREADS=None =>\n",
      "... If you are using openblas if you are using openblas set OMP_NUM_THREADS=1 or risk subprocess calls hanging indefinitely\n"
     ]
    },
    {
     "name": "stderr",
     "output_type": "stream",
     "text": [
      "D:\\ruanjian\\Anaconda\\lib\\site-packages\\sklearn\\ensemble\\weight_boosting.py:29: DeprecationWarning: numpy.core.umath_tests is an internal NumPy module and should not be imported. It will be removed in a future NumPy release.\n",
      "  from numpy.core.umath_tests import inner1d\n",
      "D:\\ruanjian\\Anaconda\\lib\\site-packages\\ipykernel_launcher.py:4: DeprecationWarning: \n",
      ".ix is deprecated. Please use\n",
      ".loc for label based indexing or\n",
      ".iloc for positional indexing\n",
      "\n",
      "See the documentation here:\n",
      "http://pandas.pydata.org/pandas-docs/stable/indexing.html#ix-indexer-is-deprecated\n",
      "  after removing the cwd from sys.path.\n"
     ]
    }
   ],
   "source": [
    "from hpsklearn import HyperoptEstimator, any_classifier\n",
    "from hyperopt import tpe\n",
    "import numpy as np\n",
    "X = np.array(train.ix[:,['PassengerId', 'Pclass', 'Age', 'SibSp', 'Parch', 'Fare','Sex', 'Embarked']])\n",
    "y = np.array(train.ix[:, 'Survived'])\n",
    "test_size = int( 0.2 * len( y ) )\n",
    "seed = 1234\n",
    "np.random.seed( seed )\n",
    "indices = np.random.permutation(len(X))\n",
    "X_train = X[ indices[:-test_size]]\n",
    "y_train = y[ indices[:-test_size]]\n",
    "X_test = X[ indices[-test_size:]]\n",
    "y_test = y[ indices[-test_size:]]"
   ]
  },
  {
   "cell_type": "code",
   "execution_count": 7,
   "metadata": {
    "scrolled": true
   },
   "outputs": [
    {
     "name": "stdout",
     "output_type": "stream",
     "text": [
      "100%|█████████████████████████████████████████████████████| 1/1 [00:01<00:00,  1.33s/it, best loss: 0.3776223776223776]\n",
      "100%|█████████████████████████████████████████████████████| 1/1 [00:30<00:00, 30.61s/it, best loss: 0.3426573426573427]\n",
      "100%|████████████████████████████████████████████████████| 1/1 [00:01<00:00,  1.28s/it, best loss: 0.18181818181818177]\n",
      "100%|████████████████████████████████████████████████████| 1/1 [00:01<00:00,  1.33s/it, best loss: 0.18181818181818177]\n",
      "100%|████████████████████████████████████████████████████| 1/1 [00:01<00:00,  1.31s/it, best loss: 0.18181818181818177]\n",
      "100%|████████████████████████████████████████████████████| 1/1 [00:02<00:00,  2.93s/it, best loss: 0.18181818181818177]\n",
      "100%|████████████████████████████████████████████████████| 1/1 [00:01<00:00,  1.78s/it, best loss: 0.18181818181818177]\n",
      "100%|████████████████████████████████████████████████████| 1/1 [00:01<00:00,  1.45s/it, best loss: 0.18181818181818177]\n",
      "100%|████████████████████████████████████████████████████| 1/1 [00:01<00:00,  1.23s/it, best loss: 0.18181818181818177]\n",
      "100%|████████████████████████████████████████████████████| 1/1 [00:01<00:00,  1.32s/it, best loss: 0.18181818181818177]\n"
     ]
    }
   ],
   "source": [
    "estim = HyperoptEstimator(classifier=any_classifier('clf'), algo=tpe.suggest, trial_timeout=300)\n",
    "estim.fit(X_train, y_train)"
   ]
  },
  {
   "cell_type": "code",
   "execution_count": 8,
   "metadata": {},
   "outputs": [
    {
     "name": "stdout",
     "output_type": "stream",
     "text": [
      "0.8089887640449438\n"
     ]
    }
   ],
   "source": [
    "print(estim.score(X_test, y_test))"
   ]
  },
  {
   "cell_type": "code",
   "execution_count": 9,
   "metadata": {},
   "outputs": [
    {
     "name": "stdout",
     "output_type": "stream",
     "text": [
      "{'learner': RandomForestClassifier(bootstrap=False, class_weight=None, criterion='gini',\n",
      "            max_depth=None, max_features=0.26047484622312844,\n",
      "            max_leaf_nodes=None, min_impurity_decrease=0.0,\n",
      "            min_impurity_split=None, min_samples_leaf=1,\n",
      "            min_samples_split=2, min_weight_fraction_leaf=0.0,\n",
      "            n_estimators=11, n_jobs=1, oob_score=False, random_state=1,\n",
      "            verbose=False, warm_start=False), 'preprocs': (MinMaxScaler(copy=True, feature_range=(-1.0, 1.0)),), 'ex_preprocs': ()}\n"
     ]
    }
   ],
   "source": [
    "print(estim.best_model())"
   ]
  },
  {
   "cell_type": "code",
   "execution_count": null,
   "metadata": {
    "collapsed": true
   },
   "outputs": [],
   "source": []
  },
  {
   "cell_type": "code",
   "execution_count": 10,
   "metadata": {},
   "outputs": [
    {
     "name": "stderr",
     "output_type": "stream",
     "text": [
      "D:\\ruanjian\\Anaconda\\lib\\site-packages\\ipykernel_launcher.py:4: DeprecationWarning: \n",
      ".ix is deprecated. Please use\n",
      ".loc for label based indexing or\n",
      ".iloc for positional indexing\n",
      "\n",
      "See the documentation here:\n",
      "http://pandas.pydata.org/pandas-docs/stable/indexing.html#ix-indexer-is-deprecated\n",
      "  after removing the cwd from sys.path.\n"
     ]
    }
   ],
   "source": [
    "#test data\n",
    "Sex = []\n",
    "for i in range(len(test_data)):\n",
    "    if(test_data.ix[i,'Sex'] == 'female'):\n",
    "        Sex.append(0)\n",
    "    else:\n",
    "        Sex.append(1)\n",
    "test_data.drop('Sex', axis=1, inplace=True)\n",
    "test_data['Sex'] = Sex\n",
    "test_data.drop(['Name','Cabin','Ticket'], axis=1, inplace=True)\n",
    "a = list(test_data['Embarked'])\n",
    "Embarked=[]\n",
    "for i in a:\n",
    "    if i == 'S':\n",
    "        Embarked.append(0)\n",
    "    elif i == 'Q':\n",
    "        Embarked.append(1)\n",
    "    elif i == 'C':\n",
    "        Embarked.append(2)\n",
    "    else:\n",
    "        Embarked.append(None)"
   ]
  },
  {
   "cell_type": "code",
   "execution_count": 11,
   "metadata": {
    "collapsed": true
   },
   "outputs": [],
   "source": [
    "test_data.drop(['Embarked'], axis=1, inplace=True)\n",
    "test_data['Embarked'] = Embarked\n",
    "from sklearn.preprocessing import Imputer\n",
    "imr = Imputer(missing_values='NaN', strategy='mean', axis=0)\n",
    "imr = imr.fit(test_data)\n",
    "data = imr.transform(test_data.values)\n",
    "test = pd.DataFrame(data)\n",
    "test.columns = test_data.columns"
   ]
  },
  {
   "cell_type": "code",
   "execution_count": 12,
   "metadata": {},
   "outputs": [
    {
     "name": "stderr",
     "output_type": "stream",
     "text": [
      "D:\\ruanjian\\Anaconda\\lib\\site-packages\\ipykernel_launcher.py:1: DeprecationWarning: \n",
      ".ix is deprecated. Please use\n",
      ".loc for label based indexing or\n",
      ".iloc for positional indexing\n",
      "\n",
      "See the documentation here:\n",
      "http://pandas.pydata.org/pandas-docs/stable/indexing.html#ix-indexer-is-deprecated\n",
      "  \"\"\"Entry point for launching an IPython kernel.\n"
     ]
    }
   ],
   "source": [
    "X_test = np.array(test.ix[:,['PassengerId', 'Pclass', 'Age', 'SibSp', 'Parch', 'Fare','Sex', 'Embarked']])"
   ]
  },
  {
   "cell_type": "code",
   "execution_count": 15,
   "metadata": {
    "scrolled": true
   },
   "outputs": [],
   "source": [
    "predict_data = estim.predict(X_test)"
   ]
  },
  {
   "cell_type": "code",
   "execution_count": null,
   "metadata": {
    "collapsed": true
   },
   "outputs": [],
   "source": []
  },
  {
   "cell_type": "code",
   "execution_count": null,
   "metadata": {
    "collapsed": true
   },
   "outputs": [],
   "source": []
  },
  {
   "cell_type": "code",
   "execution_count": 17,
   "metadata": {
    "collapsed": true
   },
   "outputs": [],
   "source": [
    "import csv\n",
    "def save2csv(PassengerId, survival):\n",
    "    with open(r'E:/Titanic.csv','a+',newline='',encoding='utf_8_sig') as csvfile:\n",
    "        writer = csv.writer(csvfile)\n",
    "        for i in range(len(predict_data)):\n",
    "            writer.writerow([PassengerId[i], survival[i]])"
   ]
  },
  {
   "cell_type": "code",
   "execution_count": 18,
   "metadata": {
    "collapsed": true
   },
   "outputs": [],
   "source": [
    "save2csv(test_data['PassengerId'], predict_data)"
   ]
  },
  {
   "cell_type": "code",
   "execution_count": null,
   "metadata": {
    "collapsed": true
   },
   "outputs": [],
   "source": []
  },
  {
   "cell_type": "code",
   "execution_count": null,
   "metadata": {
    "collapsed": true
   },
   "outputs": [],
   "source": []
  }
 ],
 "metadata": {
  "kernelspec": {
   "display_name": "Python 3",
   "language": "python",
   "name": "python3"
  },
  "language_info": {
   "codemirror_mode": {
    "name": "ipython",
    "version": 3
   },
   "file_extension": ".py",
   "mimetype": "text/x-python",
   "name": "python",
   "nbconvert_exporter": "python",
   "pygments_lexer": "ipython3",
   "version": "3.6.3"
  }
 },
 "nbformat": 4,
 "nbformat_minor": 2
}
